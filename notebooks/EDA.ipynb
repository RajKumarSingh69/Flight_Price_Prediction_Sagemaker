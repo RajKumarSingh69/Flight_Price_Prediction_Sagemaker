{
 "cells": [
  {
   "cell_type": "markdown",
   "id": "5bf20062-f76b-44b9-80cd-21ca7c2fdc10",
   "metadata": {},
   "source": [
    "# Imporing Libraries"
   ]
  },
  {
   "cell_type": "code",
   "execution_count": 15,
   "id": "1a080b4e-d65f-46ef-b0f2-32c82e791722",
   "metadata": {},
   "outputs": [],
   "source": [
    "import pandas as pd\n",
    "import numpy as np\n",
    "import matplotlib.pyplot as plt\n",
    "import seaborn as sns\n",
    "import eda_helper_functions\n",
    "from sklearn.ensemble import IsolationForest"
   ]
  },
  {
   "cell_type": "markdown",
   "id": "72ccb11e-00ad-401f-9a18-f56ce8cdb206",
   "metadata": {},
   "source": [
    "# Read the Training Data"
   ]
  },
  {
   "cell_type": "code",
   "execution_count": 2,
   "id": "a8827db6-5534-4f00-805c-d6f405c4cfc3",
   "metadata": {},
   "outputs": [],
   "source": [
    "file_path=r\"F:\\DATA_SCIENCE\\Machile_learing_projects\\Campusx_projects\\Flight_Price_Prediction\\Data\\train.csv\""
   ]
  },
  {
   "cell_type": "code",
   "execution_count": 3,
   "id": "fbac8a8a-efa7-4980-a5d7-73b987829695",
   "metadata": {},
   "outputs": [],
   "source": [
    "train=pd.read_csv(file_path)"
   ]
  },
  {
   "cell_type": "code",
   "execution_count": 4,
   "id": "48b4205f-7897-48cc-b443-0d1c3fa7041a",
   "metadata": {},
   "outputs": [
    {
     "data": {
      "text/html": [
       "<div>\n",
       "<style scoped>\n",
       "    .dataframe tbody tr th:only-of-type {\n",
       "        vertical-align: middle;\n",
       "    }\n",
       "\n",
       "    .dataframe tbody tr th {\n",
       "        vertical-align: top;\n",
       "    }\n",
       "\n",
       "    .dataframe thead th {\n",
       "        text-align: right;\n",
       "    }\n",
       "</style>\n",
       "<table border=\"1\" class=\"dataframe\">\n",
       "  <thead>\n",
       "    <tr style=\"text-align: right;\">\n",
       "      <th></th>\n",
       "      <th>airline</th>\n",
       "      <th>date_of_journey</th>\n",
       "      <th>source</th>\n",
       "      <th>destination</th>\n",
       "      <th>dep_time</th>\n",
       "      <th>arrival_time</th>\n",
       "      <th>duration</th>\n",
       "      <th>total_stops</th>\n",
       "      <th>additional_info</th>\n",
       "      <th>price</th>\n",
       "    </tr>\n",
       "  </thead>\n",
       "  <tbody>\n",
       "    <tr>\n",
       "      <th>0</th>\n",
       "      <td>Indigo</td>\n",
       "      <td>2019-06-12</td>\n",
       "      <td>Delhi</td>\n",
       "      <td>Cochin</td>\n",
       "      <td>02:00:00</td>\n",
       "      <td>07:45:00</td>\n",
       "      <td>345</td>\n",
       "      <td>1.0</td>\n",
       "      <td>No info</td>\n",
       "      <td>6386</td>\n",
       "    </tr>\n",
       "    <tr>\n",
       "      <th>1</th>\n",
       "      <td>Air Asia</td>\n",
       "      <td>2019-05-21</td>\n",
       "      <td>Kolkata</td>\n",
       "      <td>Banglore</td>\n",
       "      <td>22:40:00</td>\n",
       "      <td>10:40:00</td>\n",
       "      <td>720</td>\n",
       "      <td>1.0</td>\n",
       "      <td>No info</td>\n",
       "      <td>9719</td>\n",
       "    </tr>\n",
       "    <tr>\n",
       "      <th>2</th>\n",
       "      <td>Indigo</td>\n",
       "      <td>2019-04-01</td>\n",
       "      <td>Kolkata</td>\n",
       "      <td>Banglore</td>\n",
       "      <td>17:15:00</td>\n",
       "      <td>19:50:00</td>\n",
       "      <td>155</td>\n",
       "      <td>0.0</td>\n",
       "      <td>No info</td>\n",
       "      <td>4174</td>\n",
       "    </tr>\n",
       "    <tr>\n",
       "      <th>3</th>\n",
       "      <td>Jet Airways</td>\n",
       "      <td>2019-03-06</td>\n",
       "      <td>Banglore</td>\n",
       "      <td>New Delhi</td>\n",
       "      <td>08:00:00</td>\n",
       "      <td>07:40:00</td>\n",
       "      <td>1420</td>\n",
       "      <td>1.0</td>\n",
       "      <td>No info</td>\n",
       "      <td>14815</td>\n",
       "    </tr>\n",
       "    <tr>\n",
       "      <th>4</th>\n",
       "      <td>Air India</td>\n",
       "      <td>2019-03-15</td>\n",
       "      <td>Chennai</td>\n",
       "      <td>Kolkata</td>\n",
       "      <td>11:40:00</td>\n",
       "      <td>13:55:00</td>\n",
       "      <td>135</td>\n",
       "      <td>0.0</td>\n",
       "      <td>No info</td>\n",
       "      <td>7082</td>\n",
       "    </tr>\n",
       "  </tbody>\n",
       "</table>\n",
       "</div>"
      ],
      "text/plain": [
       "       airline date_of_journey    source destination  dep_time arrival_time  \\\n",
       "0       Indigo      2019-06-12     Delhi      Cochin  02:00:00     07:45:00   \n",
       "1     Air Asia      2019-05-21   Kolkata    Banglore  22:40:00     10:40:00   \n",
       "2       Indigo      2019-04-01   Kolkata    Banglore  17:15:00     19:50:00   \n",
       "3  Jet Airways      2019-03-06  Banglore   New Delhi  08:00:00     07:40:00   \n",
       "4    Air India      2019-03-15   Chennai     Kolkata  11:40:00     13:55:00   \n",
       "\n",
       "   duration  total_stops additional_info  price  \n",
       "0       345          1.0         No info   6386  \n",
       "1       720          1.0         No info   9719  \n",
       "2       155          0.0         No info   4174  \n",
       "3      1420          1.0         No info  14815  \n",
       "4       135          0.0         No info   7082  "
      ]
     },
     "execution_count": 4,
     "metadata": {},
     "output_type": "execute_result"
    }
   ],
   "source": [
    "train.head()"
   ]
  },
  {
   "cell_type": "code",
   "execution_count": 5,
   "id": "2c8c4a2b-16e0-4ec5-a8cd-60789cf3697d",
   "metadata": {},
   "outputs": [
    {
     "data": {
      "text/plain": [
       "airline             object\n",
       "date_of_journey     object\n",
       "source              object\n",
       "destination         object\n",
       "dep_time            object\n",
       "arrival_time        object\n",
       "duration             int64\n",
       "total_stops        float64\n",
       "additional_info     object\n",
       "price                int64\n",
       "dtype: object"
      ]
     },
     "execution_count": 5,
     "metadata": {},
     "output_type": "execute_result"
    }
   ],
   "source": [
    "train.dtypes"
   ]
  },
  {
   "cell_type": "code",
   "execution_count": 6,
   "id": "cdd1edfc-c3a5-4cbc-97b6-cff5ee4844cd",
   "metadata": {},
   "outputs": [
    {
     "name": "stderr",
     "output_type": "stream",
     "text": [
      "C:\\Users\\rajkr\\AppData\\Local\\Temp\\ipykernel_16704\\3435688279.py:2: UserWarning: Could not infer format, so each element will be parsed individually, falling back to `dateutil`. To ensure parsing is consistent and as-expected, please specify a format.\n",
      "  col:pd.to_datetime(train.loc[:,col])\n",
      "C:\\Users\\rajkr\\AppData\\Local\\Temp\\ipykernel_16704\\3435688279.py:2: UserWarning: Could not infer format, so each element will be parsed individually, falling back to `dateutil`. To ensure parsing is consistent and as-expected, please specify a format.\n",
      "  col:pd.to_datetime(train.loc[:,col])\n"
     ]
    }
   ],
   "source": [
    "train=train.assign(**{\n",
    "    col:pd.to_datetime(train.loc[:,col])\n",
    "    for col in ['date_of_journey','dep_time','arrival_time']\n",
    "})"
   ]
  },
  {
   "cell_type": "code",
   "execution_count": 7,
   "id": "d5abe3f9-e521-4ffb-85ae-b23810bb8094",
   "metadata": {},
   "outputs": [
    {
     "data": {
      "text/plain": [
       "airline                    object\n",
       "date_of_journey    datetime64[ns]\n",
       "source                     object\n",
       "destination                object\n",
       "dep_time           datetime64[ns]\n",
       "arrival_time       datetime64[ns]\n",
       "duration                    int64\n",
       "total_stops               float64\n",
       "additional_info            object\n",
       "price                       int64\n",
       "dtype: object"
      ]
     },
     "execution_count": 7,
     "metadata": {},
     "output_type": "execute_result"
    }
   ],
   "source": [
    "train.dtypes"
   ]
  },
  {
   "cell_type": "code",
   "execution_count": 8,
   "id": "c9e7343b-520e-4d19-8bc1-74e96188e428",
   "metadata": {},
   "outputs": [
    {
     "name": "stdout",
     "output_type": "stream",
     "text": [
      "<class 'pandas.core.frame.DataFrame'>\n",
      "RangeIndex: 640 entries, 0 to 639\n",
      "Data columns (total 10 columns):\n",
      " #   Column           Non-Null Count  Dtype         \n",
      "---  ------           --------------  -----         \n",
      " 0   airline          640 non-null    object        \n",
      " 1   date_of_journey  640 non-null    datetime64[ns]\n",
      " 2   source           640 non-null    object        \n",
      " 3   destination      640 non-null    object        \n",
      " 4   dep_time         640 non-null    datetime64[ns]\n",
      " 5   arrival_time     640 non-null    datetime64[ns]\n",
      " 6   duration         640 non-null    int64         \n",
      " 7   total_stops      640 non-null    float64       \n",
      " 8   additional_info  640 non-null    object        \n",
      " 9   price            640 non-null    int64         \n",
      "dtypes: datetime64[ns](3), float64(1), int64(2), object(4)\n",
      "memory usage: 50.1+ KB\n"
     ]
    }
   ],
   "source": [
    "# # High level summary of the data\n",
    "train.info()"
   ]
  },
  {
   "cell_type": "code",
   "execution_count": 9,
   "id": "c5a5e880-3370-49d7-8780-55adcb9c2b93",
   "metadata": {},
   "outputs": [
    {
     "data": {
      "text/html": [
       "<div>\n",
       "<style scoped>\n",
       "    .dataframe tbody tr th:only-of-type {\n",
       "        vertical-align: middle;\n",
       "    }\n",
       "\n",
       "    .dataframe tbody tr th {\n",
       "        vertical-align: top;\n",
       "    }\n",
       "\n",
       "    .dataframe thead th {\n",
       "        text-align: right;\n",
       "    }\n",
       "</style>\n",
       "<table border=\"1\" class=\"dataframe\">\n",
       "  <thead>\n",
       "    <tr style=\"text-align: right;\">\n",
       "      <th></th>\n",
       "      <th>duration</th>\n",
       "      <th>total_stops</th>\n",
       "      <th>price</th>\n",
       "    </tr>\n",
       "  </thead>\n",
       "  <tbody>\n",
       "    <tr>\n",
       "      <th>count</th>\n",
       "      <td>640.000000</td>\n",
       "      <td>640.000000</td>\n",
       "      <td>640.000000</td>\n",
       "    </tr>\n",
       "    <tr>\n",
       "      <th>mean</th>\n",
       "      <td>656.953125</td>\n",
       "      <td>0.817187</td>\n",
       "      <td>8825.834375</td>\n",
       "    </tr>\n",
       "    <tr>\n",
       "      <th>std</th>\n",
       "      <td>515.050871</td>\n",
       "      <td>0.656747</td>\n",
       "      <td>4260.001475</td>\n",
       "    </tr>\n",
       "    <tr>\n",
       "      <th>min</th>\n",
       "      <td>75.000000</td>\n",
       "      <td>0.000000</td>\n",
       "      <td>1759.000000</td>\n",
       "    </tr>\n",
       "    <tr>\n",
       "      <th>25%</th>\n",
       "      <td>170.000000</td>\n",
       "      <td>0.000000</td>\n",
       "      <td>5073.000000</td>\n",
       "    </tr>\n",
       "    <tr>\n",
       "      <th>50%</th>\n",
       "      <td>545.000000</td>\n",
       "      <td>1.000000</td>\n",
       "      <td>8040.000000</td>\n",
       "    </tr>\n",
       "    <tr>\n",
       "      <th>75%</th>\n",
       "      <td>960.000000</td>\n",
       "      <td>1.000000</td>\n",
       "      <td>12193.500000</td>\n",
       "    </tr>\n",
       "    <tr>\n",
       "      <th>max</th>\n",
       "      <td>2345.000000</td>\n",
       "      <td>3.000000</td>\n",
       "      <td>36235.000000</td>\n",
       "    </tr>\n",
       "  </tbody>\n",
       "</table>\n",
       "</div>"
      ],
      "text/plain": [
       "          duration  total_stops         price\n",
       "count   640.000000   640.000000    640.000000\n",
       "mean    656.953125     0.817187   8825.834375\n",
       "std     515.050871     0.656747   4260.001475\n",
       "min      75.000000     0.000000   1759.000000\n",
       "25%     170.000000     0.000000   5073.000000\n",
       "50%     545.000000     1.000000   8040.000000\n",
       "75%     960.000000     1.000000  12193.500000\n",
       "max    2345.000000     3.000000  36235.000000"
      ]
     },
     "execution_count": 9,
     "metadata": {},
     "output_type": "execute_result"
    }
   ],
   "source": [
    "# Taking some statistical information\n",
    "train.describe(include='number')"
   ]
  },
  {
   "cell_type": "code",
   "execution_count": 10,
   "id": "db323bda-a088-4e67-bee9-6b2b1d717633",
   "metadata": {},
   "outputs": [
    {
     "data": {
      "text/html": [
       "<div>\n",
       "<style scoped>\n",
       "    .dataframe tbody tr th:only-of-type {\n",
       "        vertical-align: middle;\n",
       "    }\n",
       "\n",
       "    .dataframe tbody tr th {\n",
       "        vertical-align: top;\n",
       "    }\n",
       "\n",
       "    .dataframe thead th {\n",
       "        text-align: right;\n",
       "    }\n",
       "</style>\n",
       "<table border=\"1\" class=\"dataframe\">\n",
       "  <thead>\n",
       "    <tr style=\"text-align: right;\">\n",
       "      <th></th>\n",
       "      <th>airline</th>\n",
       "      <th>source</th>\n",
       "      <th>destination</th>\n",
       "      <th>additional_info</th>\n",
       "    </tr>\n",
       "  </thead>\n",
       "  <tbody>\n",
       "    <tr>\n",
       "      <th>count</th>\n",
       "      <td>640</td>\n",
       "      <td>640</td>\n",
       "      <td>640</td>\n",
       "      <td>640</td>\n",
       "    </tr>\n",
       "    <tr>\n",
       "      <th>unique</th>\n",
       "      <td>8</td>\n",
       "      <td>5</td>\n",
       "      <td>6</td>\n",
       "      <td>4</td>\n",
       "    </tr>\n",
       "    <tr>\n",
       "      <th>top</th>\n",
       "      <td>Jet Airways</td>\n",
       "      <td>Delhi</td>\n",
       "      <td>Cochin</td>\n",
       "      <td>No info</td>\n",
       "    </tr>\n",
       "    <tr>\n",
       "      <th>freq</th>\n",
       "      <td>223</td>\n",
       "      <td>261</td>\n",
       "      <td>261</td>\n",
       "      <td>514</td>\n",
       "    </tr>\n",
       "  </tbody>\n",
       "</table>\n",
       "</div>"
      ],
      "text/plain": [
       "            airline source destination additional_info\n",
       "count           640    640         640             640\n",
       "unique            8      5           6               4\n",
       "top     Jet Airways  Delhi      Cochin         No info\n",
       "freq            223    261         261             514"
      ]
     },
     "execution_count": 10,
     "metadata": {},
     "output_type": "execute_result"
    }
   ],
   "source": [
    "train.describe(include='O')"
   ]
  },
  {
   "cell_type": "code",
   "execution_count": 11,
   "id": "b707ab54-9180-4892-8450-09010cf7ec48",
   "metadata": {},
   "outputs": [
    {
     "data": {
      "text/html": [
       "<div>\n",
       "<style scoped>\n",
       "    .dataframe tbody tr th:only-of-type {\n",
       "        vertical-align: middle;\n",
       "    }\n",
       "\n",
       "    .dataframe tbody tr th {\n",
       "        vertical-align: top;\n",
       "    }\n",
       "\n",
       "    .dataframe thead th {\n",
       "        text-align: right;\n",
       "    }\n",
       "</style>\n",
       "<table border=\"1\" class=\"dataframe\">\n",
       "  <thead>\n",
       "    <tr style=\"text-align: right;\">\n",
       "      <th></th>\n",
       "      <th>airline</th>\n",
       "      <th>source</th>\n",
       "      <th>destination</th>\n",
       "      <th>total_stops</th>\n",
       "      <th>additional_info</th>\n",
       "    </tr>\n",
       "  </thead>\n",
       "  <tbody>\n",
       "    <tr>\n",
       "      <th>count</th>\n",
       "      <td>640</td>\n",
       "      <td>640</td>\n",
       "      <td>640</td>\n",
       "      <td>640.0</td>\n",
       "      <td>640</td>\n",
       "    </tr>\n",
       "    <tr>\n",
       "      <th>unique</th>\n",
       "      <td>8</td>\n",
       "      <td>5</td>\n",
       "      <td>6</td>\n",
       "      <td>4.0</td>\n",
       "      <td>4</td>\n",
       "    </tr>\n",
       "    <tr>\n",
       "      <th>top</th>\n",
       "      <td>Jet Airways</td>\n",
       "      <td>Delhi</td>\n",
       "      <td>Cochin</td>\n",
       "      <td>1.0</td>\n",
       "      <td>No info</td>\n",
       "    </tr>\n",
       "    <tr>\n",
       "      <th>freq</th>\n",
       "      <td>223</td>\n",
       "      <td>261</td>\n",
       "      <td>261</td>\n",
       "      <td>349.0</td>\n",
       "      <td>514</td>\n",
       "    </tr>\n",
       "  </tbody>\n",
       "</table>\n",
       "</div>"
      ],
      "text/plain": [
       "            airline source destination  total_stops additional_info\n",
       "count           640    640         640        640.0             640\n",
       "unique            8      5           6          4.0               4\n",
       "top     Jet Airways  Delhi      Cochin          1.0         No info\n",
       "freq            223    261         261        349.0             514"
      ]
     },
     "execution_count": 11,
     "metadata": {},
     "output_type": "execute_result"
    }
   ],
   "source": [
    "#how to include numerical varaiable into categorical and then we are using describe function\n",
    "(\n",
    "    train\n",
    "    .assign(total_stops=train['total_stops'].astype(object))\n",
    "    .describe(include='O')\n",
    ")"
   ]
  },
  {
   "cell_type": "markdown",
   "id": "0b2590de-78bf-480b-8706-e713e5d2edff",
   "metadata": {},
   "source": [
    "## High-level analysis of missing values"
   ]
  },
  {
   "cell_type": "code",
   "execution_count": 12,
   "id": "921be915-69b1-4f90-95e3-2c485c4b474e",
   "metadata": {},
   "outputs": [
    {
     "data": {
      "text/html": [
       "<div>\n",
       "<style scoped>\n",
       "    .dataframe tbody tr th:only-of-type {\n",
       "        vertical-align: middle;\n",
       "    }\n",
       "\n",
       "    .dataframe tbody tr th {\n",
       "        vertical-align: top;\n",
       "    }\n",
       "\n",
       "    .dataframe thead th {\n",
       "        text-align: right;\n",
       "    }\n",
       "</style>\n",
       "<table border=\"1\" class=\"dataframe\">\n",
       "  <thead>\n",
       "    <tr style=\"text-align: right;\">\n",
       "      <th></th>\n",
       "      <th>count</th>\n",
       "      <th>percentage</th>\n",
       "    </tr>\n",
       "    <tr>\n",
       "      <th>variable</th>\n",
       "      <th></th>\n",
       "      <th></th>\n",
       "    </tr>\n",
       "  </thead>\n",
       "  <tbody>\n",
       "  </tbody>\n",
       "</table>\n",
       "</div>"
      ],
      "text/plain": [
       "Empty DataFrame\n",
       "Columns: [count, percentage]\n",
       "Index: []"
      ]
     },
     "execution_count": 12,
     "metadata": {},
     "output_type": "execute_result"
    }
   ],
   "source": [
    "#using our library which we made for EDA\n",
    "#there is no missing value\n",
    "eda_helper_functions.missing_info(train)"
   ]
  },
  {
   "cell_type": "code",
   "execution_count": 13,
   "id": "b4054f0c-e6ff-45ed-af2a-c87492ca5dd7",
   "metadata": {},
   "outputs": [
    {
     "data": {
      "image/png": "[encoded data removed]",
      "text/plain": [
       "<Figure size 1000x400 with 1 Axes>"
      ]
     },
     "metadata": {},
     "output_type": "display_data"
    }
   ],
   "source": [
    "eda_helper_functions.plot_missing_info(train)\n",
    "#the graph says that there are no missing value in any column"
   ]
  },
  {
   "cell_type": "markdown",
   "id": "97b509b4-4a87-401f-ad1e-77a5627c3b03",
   "metadata": {},
   "source": [
    "# High level Analysis of Outliers"
   ]
  },
  {
   "cell_type": "code",
   "execution_count": 18,
   "id": "9f0c2b8b-cc0b-4546-bc15-b90b1e1bafaa",
   "metadata": {},
   "outputs": [],
   "source": [
    "forest=IsolationForest(n_estimators=10,random_state=42)"
   ]
  },
  {
   "cell_type": "code",
   "execution_count": 23,
   "id": "16163f0f-caf9-42cd-a0c2-3ad423e57f52",
   "metadata": {},
   "outputs": [
    {
     "data": {
      "text/html": [
       "<div>\n",
       "<style scoped>\n",
       "    .dataframe tbody tr th:only-of-type {\n",
       "        vertical-align: middle;\n",
       "    }\n",
       "\n",
       "    .dataframe tbody tr th {\n",
       "        vertical-align: top;\n",
       "    }\n",
       "\n",
       "    .dataframe thead th {\n",
       "        text-align: right;\n",
       "    }\n",
       "</style>\n",
       "<table border=\"1\" class=\"dataframe\">\n",
       "  <thead>\n",
       "    <tr style=\"text-align: right;\">\n",
       "      <th></th>\n",
       "      <th>airline</th>\n",
       "      <th>date_of_journey</th>\n",
       "      <th>source</th>\n",
       "      <th>destination</th>\n",
       "      <th>dep_time</th>\n",
       "      <th>arrival_time</th>\n",
       "      <th>duration</th>\n",
       "      <th>total_stops</th>\n",
       "      <th>additional_info</th>\n",
       "      <th>price</th>\n",
       "      <th>outlier</th>\n",
       "    </tr>\n",
       "  </thead>\n",
       "  <tbody>\n",
       "    <tr>\n",
       "      <th>3</th>\n",
       "      <td>Jet Airways</td>\n",
       "      <td>2019-03-06</td>\n",
       "      <td>Banglore</td>\n",
       "      <td>New Delhi</td>\n",
       "      <td>2024-05-07 08:00:00</td>\n",
       "      <td>2024-05-07 07:40:00</td>\n",
       "      <td>1420</td>\n",
       "      <td>1.0</td>\n",
       "      <td>No info</td>\n",
       "      <td>14815</td>\n",
       "      <td>-1</td>\n",
       "    </tr>\n",
       "    <tr>\n",
       "      <th>4</th>\n",
       "      <td>Air India</td>\n",
       "      <td>2019-03-15</td>\n",
       "      <td>Chennai</td>\n",
       "      <td>Kolkata</td>\n",
       "      <td>2024-05-07 11:40:00</td>\n",
       "      <td>2024-05-07 13:55:00</td>\n",
       "      <td>135</td>\n",
       "      <td>0.0</td>\n",
       "      <td>No info</td>\n",
       "      <td>7082</td>\n",
       "      <td>-1</td>\n",
       "    </tr>\n",
       "    <tr>\n",
       "      <th>13</th>\n",
       "      <td>Indigo</td>\n",
       "      <td>2019-04-12</td>\n",
       "      <td>Kolkata</td>\n",
       "      <td>Banglore</td>\n",
       "      <td>2024-05-07 14:25:00</td>\n",
       "      <td>2024-05-07 16:55:00</td>\n",
       "      <td>150</td>\n",
       "      <td>0.0</td>\n",
       "      <td>No info</td>\n",
       "      <td>5224</td>\n",
       "      <td>-1</td>\n",
       "    </tr>\n",
       "    <tr>\n",
       "      <th>15</th>\n",
       "      <td>Air India</td>\n",
       "      <td>2019-05-18</td>\n",
       "      <td>Kolkata</td>\n",
       "      <td>Banglore</td>\n",
       "      <td>2024-05-07 16:45:00</td>\n",
       "      <td>2024-05-07 12:30:00</td>\n",
       "      <td>1185</td>\n",
       "      <td>2.0</td>\n",
       "      <td>No info</td>\n",
       "      <td>15170</td>\n",
       "      <td>-1</td>\n",
       "    </tr>\n",
       "    <tr>\n",
       "      <th>17</th>\n",
       "      <td>Air India</td>\n",
       "      <td>2019-06-09</td>\n",
       "      <td>Kolkata</td>\n",
       "      <td>Banglore</td>\n",
       "      <td>2024-05-07 07:00:00</td>\n",
       "      <td>2024-05-07 05:25:00</td>\n",
       "      <td>1345</td>\n",
       "      <td>2.0</td>\n",
       "      <td>No info</td>\n",
       "      <td>12534</td>\n",
       "      <td>-1</td>\n",
       "    </tr>\n",
       "    <tr>\n",
       "      <th>...</th>\n",
       "      <td>...</td>\n",
       "      <td>...</td>\n",
       "      <td>...</td>\n",
       "      <td>...</td>\n",
       "      <td>...</td>\n",
       "      <td>...</td>\n",
       "      <td>...</td>\n",
       "      <td>...</td>\n",
       "      <td>...</td>\n",
       "      <td>...</td>\n",
       "      <td>...</td>\n",
       "    </tr>\n",
       "    <tr>\n",
       "      <th>627</th>\n",
       "      <td>Jet Airways</td>\n",
       "      <td>2019-06-15</td>\n",
       "      <td>Delhi</td>\n",
       "      <td>Cochin</td>\n",
       "      <td>2024-05-07 18:20:00</td>\n",
       "      <td>2024-05-07 12:35:00</td>\n",
       "      <td>1095</td>\n",
       "      <td>2.0</td>\n",
       "      <td>No info</td>\n",
       "      <td>14300</td>\n",
       "      <td>-1</td>\n",
       "    </tr>\n",
       "    <tr>\n",
       "      <th>628</th>\n",
       "      <td>Air India</td>\n",
       "      <td>2019-05-21</td>\n",
       "      <td>Delhi</td>\n",
       "      <td>Cochin</td>\n",
       "      <td>2024-05-07 09:45:00</td>\n",
       "      <td>2024-05-07 09:25:00</td>\n",
       "      <td>1420</td>\n",
       "      <td>2.0</td>\n",
       "      <td>No info</td>\n",
       "      <td>10975</td>\n",
       "      <td>-1</td>\n",
       "    </tr>\n",
       "    <tr>\n",
       "      <th>629</th>\n",
       "      <td>Air Asia</td>\n",
       "      <td>2019-03-12</td>\n",
       "      <td>Kolkata</td>\n",
       "      <td>Banglore</td>\n",
       "      <td>2024-05-07 22:50:00</td>\n",
       "      <td>2024-05-07 01:20:00</td>\n",
       "      <td>150</td>\n",
       "      <td>0.0</td>\n",
       "      <td>No info</td>\n",
       "      <td>4082</td>\n",
       "      <td>-1</td>\n",
       "    </tr>\n",
       "    <tr>\n",
       "      <th>637</th>\n",
       "      <td>Air India</td>\n",
       "      <td>2019-03-24</td>\n",
       "      <td>Mumbai</td>\n",
       "      <td>Hyderabad</td>\n",
       "      <td>2024-05-07 15:00:00</td>\n",
       "      <td>2024-05-07 16:25:00</td>\n",
       "      <td>85</td>\n",
       "      <td>0.0</td>\n",
       "      <td>No info</td>\n",
       "      <td>2050</td>\n",
       "      <td>-1</td>\n",
       "    </tr>\n",
       "    <tr>\n",
       "      <th>638</th>\n",
       "      <td>Jet Airways</td>\n",
       "      <td>2019-04-01</td>\n",
       "      <td>Kolkata</td>\n",
       "      <td>Banglore</td>\n",
       "      <td>2024-05-07 18:55:00</td>\n",
       "      <td>2024-05-07 18:15:00</td>\n",
       "      <td>1400</td>\n",
       "      <td>1.0</td>\n",
       "      <td>In-flight meal not included</td>\n",
       "      <td>7064</td>\n",
       "      <td>-1</td>\n",
       "    </tr>\n",
       "  </tbody>\n",
       "</table>\n",
       "<p>262 rows × 11 columns</p>\n",
       "</div>"
      ],
      "text/plain": [
       "         airline date_of_journey    source destination            dep_time  \\\n",
       "3    Jet Airways      2019-03-06  Banglore   New Delhi 2024-05-07 08:00:00   \n",
       "4      Air India      2019-03-15   Chennai     Kolkata 2024-05-07 11:40:00   \n",
       "13        Indigo      2019-04-12   Kolkata    Banglore 2024-05-07 14:25:00   \n",
       "15     Air India      2019-05-18   Kolkata    Banglore 2024-05-07 16:45:00   \n",
       "17     Air India      2019-06-09   Kolkata    Banglore 2024-05-07 07:00:00   \n",
       "..           ...             ...       ...         ...                 ...   \n",
       "627  Jet Airways      2019-06-15     Delhi      Cochin 2024-05-07 18:20:00   \n",
       "628    Air India      2019-05-21     Delhi      Cochin 2024-05-07 09:45:00   \n",
       "629     Air Asia      2019-03-12   Kolkata    Banglore 2024-05-07 22:50:00   \n",
       "637    Air India      2019-03-24    Mumbai   Hyderabad 2024-05-07 15:00:00   \n",
       "638  Jet Airways      2019-04-01   Kolkata    Banglore 2024-05-07 18:55:00   \n",
       "\n",
       "           arrival_time  duration  total_stops              additional_info  \\\n",
       "3   2024-05-07 07:40:00      1420          1.0                      No info   \n",
       "4   2024-05-07 13:55:00       135          0.0                      No info   \n",
       "13  2024-05-07 16:55:00       150          0.0                      No info   \n",
       "15  2024-05-07 12:30:00      1185          2.0                      No info   \n",
       "17  2024-05-07 05:25:00      1345          2.0                      No info   \n",
       "..                  ...       ...          ...                          ...   \n",
       "627 2024-05-07 12:35:00      1095          2.0                      No info   \n",
       "628 2024-05-07 09:25:00      1420          2.0                      No info   \n",
       "629 2024-05-07 01:20:00       150          0.0                      No info   \n",
       "637 2024-05-07 16:25:00        85          0.0                      No info   \n",
       "638 2024-05-07 18:15:00      1400          1.0  In-flight meal not included   \n",
       "\n",
       "     price  outlier  \n",
       "3    14815       -1  \n",
       "4     7082       -1  \n",
       "13    5224       -1  \n",
       "15   15170       -1  \n",
       "17   12534       -1  \n",
       "..     ...      ...  \n",
       "627  14300       -1  \n",
       "628  10975       -1  \n",
       "629   4082       -1  \n",
       "637   2050       -1  \n",
       "638   7064       -1  \n",
       "\n",
       "[262 rows x 11 columns]"
      ]
     },
     "execution_count": 23,
     "metadata": {},
     "output_type": "execute_result"
    }
   ],
   "source": [
    "#In this particular line of code we are droping our target column\n",
    "# Applying the IsolationForest algorithm on our dataset\n",
    "# After applying this algorithm it will crate a column and in this column the information is present in the form of -1 and 1\n",
    "# here -1 is outliears present and 1 is outlier is nor present\n",
    "(\n",
    "    train\n",
    "    .assign(outlier=forest.fit_predict(train\n",
    "                                       .drop(columns='price')\n",
    "                                       .select_dtypes(include='number')))\n",
    "    .query('outlier==-1')\n",
    ")\n",
    "#the query function is help us to do filteration task on the dataset"
   ]
  },
  {
   "cell_type": "markdown",
   "id": "2e6706ba-b900-4fea-940f-c531bf457bec",
   "metadata": {},
   "source": [
    "# Pair plots"
   ]
  },
  {
   "cell_type": "code",
   "execution_count": 24,
   "id": "a6c86acd-b27d-491b-976f-4c5ebfa35224",
   "metadata": {},
   "outputs": [
    {
     "data": {
      "text/html": [
       "<h2>Pair Plots</h2>"
      ],
      "text/plain": [
       "<IPython.core.display.HTML object>"
      ]
     },
     "metadata": {},
     "output_type": "display_data"
    },
    {
     "data": {
      "image/png": "[encoded data removed]",
      "text/plain": [
       "<Figure size 1350x900 with 6 Axes>"
      ]
     },
     "metadata": {},
     "output_type": "display_data"
    }
   ],
   "source": [
    "eda_helper_functions.pair_plots(train)\n",
    "# In this graph you will notice that we only plot the lower half\n",
    "# the pair plot is symmetric plot and here we aviod the repeted information , \n",
    "#for example you look at the duration and price there is linear relationship "
   ]
  },
  {
   "cell_type": "code",
   "execution_count": 25,
   "id": "f9c631de-2775-411d-b438-d7506f808573",
   "metadata": {},
   "outputs": [
    {
     "data": {
      "image/png": "[encoded data removed]",
      "text/plain": [
       "<Figure size 1200x600 with 2 Axes>"
      ]
     },
     "metadata": {},
     "output_type": "display_data"
    }
   ],
   "source": [
    "# Correlation Analysis\n",
    "eda_helper_functions.correlation_heatmap(train,method='spearman')"
   ]
  },
  {
   "cell_type": "code",
   "execution_count": 26,
   "id": "67b2a5d6-a18b-4d21-a80c-d42c41151003",
   "metadata": {},
   "outputs": [
    {
     "data": {
      "text/html": [
       "<div>\n",
       "<style scoped>\n",
       "    .dataframe tbody tr th:only-of-type {\n",
       "        vertical-align: middle;\n",
       "    }\n",
       "\n",
       "    .dataframe tbody tr th {\n",
       "        vertical-align: top;\n",
       "    }\n",
       "\n",
       "    .dataframe thead th {\n",
       "        text-align: right;\n",
       "    }\n",
       "</style>\n",
       "<table border=\"1\" class=\"dataframe\">\n",
       "  <thead>\n",
       "    <tr style=\"text-align: right;\">\n",
       "      <th></th>\n",
       "      <th>duration</th>\n",
       "      <th>total_stops</th>\n",
       "      <th>price</th>\n",
       "    </tr>\n",
       "  </thead>\n",
       "  <tbody>\n",
       "    <tr>\n",
       "      <th>duration</th>\n",
       "      <td>1.000000</td>\n",
       "      <td>0.819531</td>\n",
       "      <td>0.687517</td>\n",
       "    </tr>\n",
       "    <tr>\n",
       "      <th>total_stops</th>\n",
       "      <td>0.819531</td>\n",
       "      <td>1.000000</td>\n",
       "      <td>0.710616</td>\n",
       "    </tr>\n",
       "    <tr>\n",
       "      <th>price</th>\n",
       "      <td>0.687517</td>\n",
       "      <td>0.710616</td>\n",
       "      <td>1.000000</td>\n",
       "    </tr>\n",
       "  </tbody>\n",
       "</table>\n",
       "</div>"
      ],
      "text/plain": [
       "             duration  total_stops     price\n",
       "duration     1.000000     0.819531  0.687517\n",
       "total_stops  0.819531     1.000000  0.710616\n",
       "price        0.687517     0.710616  1.000000"
      ]
     },
     "execution_count": 26,
     "metadata": {},
     "output_type": "execute_result"
    }
   ],
   "source": [
    "train.corr(method='spearman',numeric_only=True)"
   ]
  },
  {
   "cell_type": "code",
   "execution_count": 27,
   "id": "ea74c39b-134b-49f5-9c74-230b1f287a05",
   "metadata": {},
   "outputs": [
    {
     "data": {
      "image/png": "[encoded data removed]",
      "text/plain": [
       "<Figure size 1200x600 with 2 Axes>"
      ]
     },
     "metadata": {},
     "output_type": "display_data"
    }
   ],
   "source": [
    "eda_helper_functions.cramersV_heatmap(train)"
   ]
  },
  {
   "cell_type": "code",
   "execution_count": null,
   "id": "90b3896f-56d6-4fb2-82c1-de58a476f2ff",
   "metadata": {},
   "outputs": [],
   "source": []
  }
 ],
 "metadata": {
  "kernelspec": {
   "display_name": "Python 3 (ipykernel)",
   "language": "python",
   "name": "python3"
  },
  "language_info": {
   "codemirror_mode": {
    "name": "ipython",
    "version": 3
   },
   "file_extension": ".py",
   "mimetype": "text/x-python",
   "name": "python",
   "nbconvert_exporter": "python",
   "pygments_lexer": "ipython3",
   "version": "3.11.5"
  }
 },
 "nbformat": 4,
 "nbformat_minor": 5
}
